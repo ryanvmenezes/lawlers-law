{
 "cells": [
  {
   "cell_type": "code",
   "execution_count": 1,
   "metadata": {},
   "outputs": [],
   "source": [
    "import pandas as pd\n",
    "import matplotlib.pyplot as plt\n",
    "\n",
    "from tqdm import tqdm\n",
    "\n",
    "%matplotlib inline"
   ]
  },
  {
   "cell_type": "code",
   "execution_count": 2,
   "metadata": {},
   "outputs": [],
   "source": [
    "def calculate_law(y):\n",
    "    games = pd.read_csv('processed/pbp-summary-{}.csv'.format(y), dtype={'GAME_ID':str})\n",
    "    winners = pd.read_csv('processed/winners-{}.csv'.format(y), dtype={'GAME_ID':str})\n",
    "    together = pd.merge(games, winners).sort_values(['GAME_ID','EVENTNUM'])\n",
    "    law = together.groupby('GAME_ID').apply(lambda x: x[x.POINTS >= 100].head(1))\n",
    "    total_games = len(winners)\n",
    "    law_invoked = len(law)\n",
    "    law_correct = (law.SIDE == law.WINNER).sum()\n",
    "    return pd.Series([y,total_games,law_invoked,law_correct], index=['year','total_games','law_invoked','law_correct'])"
   ]
  },
  {
   "cell_type": "code",
   "execution_count": 3,
   "metadata": {},
   "outputs": [
    {
     "name": "stderr",
     "output_type": "stream",
     "text": [
      "100%|██████████| 23/23 [01:58<00:00,  2.83s/it]\n"
     ]
    }
   ],
   "source": [
    "final = pd.concat([calculate_law(y) for y in tqdm(range(1997, 2020))], axis=1)\\\n",
    ".transpose()\\\n",
    ".set_index('year')"
   ]
  },
  {
   "cell_type": "code",
   "execution_count": 4,
   "metadata": {},
   "outputs": [],
   "source": [
    "final['pct_games_invoked'] = final['law_invoked'] / final['total_games']\n",
    "final['pct_law_correct'] = final['law_correct'] / final['law_invoked']"
   ]
  },
  {
   "cell_type": "code",
   "execution_count": 5,
   "metadata": {},
   "outputs": [
    {
     "data": {
      "text/html": [
       "<div>\n",
       "<style scoped>\n",
       "    .dataframe tbody tr th:only-of-type {\n",
       "        vertical-align: middle;\n",
       "    }\n",
       "\n",
       "    .dataframe tbody tr th {\n",
       "        vertical-align: top;\n",
       "    }\n",
       "\n",
       "    .dataframe thead th {\n",
       "        text-align: right;\n",
       "    }\n",
       "</style>\n",
       "<table border=\"1\" class=\"dataframe\">\n",
       "  <thead>\n",
       "    <tr style=\"text-align: right;\">\n",
       "      <th></th>\n",
       "      <th>total_games</th>\n",
       "      <th>law_invoked</th>\n",
       "      <th>law_correct</th>\n",
       "      <th>pct_games_invoked</th>\n",
       "      <th>pct_law_correct</th>\n",
       "    </tr>\n",
       "    <tr>\n",
       "      <th>year</th>\n",
       "      <th></th>\n",
       "      <th></th>\n",
       "      <th></th>\n",
       "      <th></th>\n",
       "      <th></th>\n",
       "    </tr>\n",
       "  </thead>\n",
       "  <tbody>\n",
       "    <tr>\n",
       "      <th>1997</th>\n",
       "      <td>1189</td>\n",
       "      <td>677</td>\n",
       "      <td>640</td>\n",
       "      <td>0.569386</td>\n",
       "      <td>0.945347</td>\n",
       "    </tr>\n",
       "    <tr>\n",
       "      <th>1998</th>\n",
       "      <td>1189</td>\n",
       "      <td>597</td>\n",
       "      <td>578</td>\n",
       "      <td>0.502103</td>\n",
       "      <td>0.968174</td>\n",
       "    </tr>\n",
       "    <tr>\n",
       "      <th>1999</th>\n",
       "      <td>725</td>\n",
       "      <td>266</td>\n",
       "      <td>256</td>\n",
       "      <td>0.366897</td>\n",
       "      <td>0.962406</td>\n",
       "    </tr>\n",
       "    <tr>\n",
       "      <th>2000</th>\n",
       "      <td>1189</td>\n",
       "      <td>723</td>\n",
       "      <td>698</td>\n",
       "      <td>0.608074</td>\n",
       "      <td>0.965422</td>\n",
       "    </tr>\n",
       "    <tr>\n",
       "      <th>2001</th>\n",
       "      <td>1189</td>\n",
       "      <td>585</td>\n",
       "      <td>561</td>\n",
       "      <td>0.492010</td>\n",
       "      <td>0.958974</td>\n",
       "    </tr>\n",
       "    <tr>\n",
       "      <th>2002</th>\n",
       "      <td>1189</td>\n",
       "      <td>602</td>\n",
       "      <td>578</td>\n",
       "      <td>0.506308</td>\n",
       "      <td>0.960133</td>\n",
       "    </tr>\n",
       "    <tr>\n",
       "      <th>2003</th>\n",
       "      <td>1189</td>\n",
       "      <td>580</td>\n",
       "      <td>544</td>\n",
       "      <td>0.487805</td>\n",
       "      <td>0.937931</td>\n",
       "    </tr>\n",
       "    <tr>\n",
       "      <th>2004</th>\n",
       "      <td>1189</td>\n",
       "      <td>493</td>\n",
       "      <td>470</td>\n",
       "      <td>0.414634</td>\n",
       "      <td>0.953347</td>\n",
       "    </tr>\n",
       "    <tr>\n",
       "      <th>2005</th>\n",
       "      <td>1230</td>\n",
       "      <td>706</td>\n",
       "      <td>660</td>\n",
       "      <td>0.573984</td>\n",
       "      <td>0.934844</td>\n",
       "    </tr>\n",
       "    <tr>\n",
       "      <th>2006</th>\n",
       "      <td>1230</td>\n",
       "      <td>686</td>\n",
       "      <td>647</td>\n",
       "      <td>0.557724</td>\n",
       "      <td>0.943149</td>\n",
       "    </tr>\n",
       "    <tr>\n",
       "      <th>2007</th>\n",
       "      <td>1230</td>\n",
       "      <td>753</td>\n",
       "      <td>702</td>\n",
       "      <td>0.612195</td>\n",
       "      <td>0.932271</td>\n",
       "    </tr>\n",
       "    <tr>\n",
       "      <th>2008</th>\n",
       "      <td>1230</td>\n",
       "      <td>837</td>\n",
       "      <td>792</td>\n",
       "      <td>0.680488</td>\n",
       "      <td>0.946237</td>\n",
       "    </tr>\n",
       "    <tr>\n",
       "      <th>2009</th>\n",
       "      <td>1230</td>\n",
       "      <td>810</td>\n",
       "      <td>754</td>\n",
       "      <td>0.658537</td>\n",
       "      <td>0.930864</td>\n",
       "    </tr>\n",
       "    <tr>\n",
       "      <th>2010</th>\n",
       "      <td>1230</td>\n",
       "      <td>828</td>\n",
       "      <td>778</td>\n",
       "      <td>0.673171</td>\n",
       "      <td>0.939614</td>\n",
       "    </tr>\n",
       "    <tr>\n",
       "      <th>2011</th>\n",
       "      <td>1230</td>\n",
       "      <td>801</td>\n",
       "      <td>752</td>\n",
       "      <td>0.651220</td>\n",
       "      <td>0.938826</td>\n",
       "    </tr>\n",
       "    <tr>\n",
       "      <th>2012</th>\n",
       "      <td>990</td>\n",
       "      <td>528</td>\n",
       "      <td>505</td>\n",
       "      <td>0.533333</td>\n",
       "      <td>0.956439</td>\n",
       "    </tr>\n",
       "    <tr>\n",
       "      <th>2013</th>\n",
       "      <td>1230</td>\n",
       "      <td>758</td>\n",
       "      <td>711</td>\n",
       "      <td>0.616260</td>\n",
       "      <td>0.937995</td>\n",
       "    </tr>\n",
       "    <tr>\n",
       "      <th>2014</th>\n",
       "      <td>1230</td>\n",
       "      <td>885</td>\n",
       "      <td>828</td>\n",
       "      <td>0.719512</td>\n",
       "      <td>0.935593</td>\n",
       "    </tr>\n",
       "    <tr>\n",
       "      <th>2015</th>\n",
       "      <td>1230</td>\n",
       "      <td>854</td>\n",
       "      <td>810</td>\n",
       "      <td>0.694309</td>\n",
       "      <td>0.948478</td>\n",
       "    </tr>\n",
       "    <tr>\n",
       "      <th>2016</th>\n",
       "      <td>1230</td>\n",
       "      <td>954</td>\n",
       "      <td>898</td>\n",
       "      <td>0.775610</td>\n",
       "      <td>0.941300</td>\n",
       "    </tr>\n",
       "    <tr>\n",
       "      <th>2017</th>\n",
       "      <td>1230</td>\n",
       "      <td>1049</td>\n",
       "      <td>947</td>\n",
       "      <td>0.852846</td>\n",
       "      <td>0.902765</td>\n",
       "    </tr>\n",
       "    <tr>\n",
       "      <th>2018</th>\n",
       "      <td>1230</td>\n",
       "      <td>1066</td>\n",
       "      <td>966</td>\n",
       "      <td>0.866667</td>\n",
       "      <td>0.906191</td>\n",
       "    </tr>\n",
       "    <tr>\n",
       "      <th>2019</th>\n",
       "      <td>327</td>\n",
       "      <td>300</td>\n",
       "      <td>266</td>\n",
       "      <td>0.917431</td>\n",
       "      <td>0.886667</td>\n",
       "    </tr>\n",
       "  </tbody>\n",
       "</table>\n",
       "</div>"
      ],
      "text/plain": [
       "      total_games  law_invoked  law_correct  pct_games_invoked  \\\n",
       "year                                                             \n",
       "1997         1189          677          640           0.569386   \n",
       "1998         1189          597          578           0.502103   \n",
       "1999          725          266          256           0.366897   \n",
       "2000         1189          723          698           0.608074   \n",
       "2001         1189          585          561           0.492010   \n",
       "2002         1189          602          578           0.506308   \n",
       "2003         1189          580          544           0.487805   \n",
       "2004         1189          493          470           0.414634   \n",
       "2005         1230          706          660           0.573984   \n",
       "2006         1230          686          647           0.557724   \n",
       "2007         1230          753          702           0.612195   \n",
       "2008         1230          837          792           0.680488   \n",
       "2009         1230          810          754           0.658537   \n",
       "2010         1230          828          778           0.673171   \n",
       "2011         1230          801          752           0.651220   \n",
       "2012          990          528          505           0.533333   \n",
       "2013         1230          758          711           0.616260   \n",
       "2014         1230          885          828           0.719512   \n",
       "2015         1230          854          810           0.694309   \n",
       "2016         1230          954          898           0.775610   \n",
       "2017         1230         1049          947           0.852846   \n",
       "2018         1230         1066          966           0.866667   \n",
       "2019          327          300          266           0.917431   \n",
       "\n",
       "      pct_law_correct  \n",
       "year                   \n",
       "1997         0.945347  \n",
       "1998         0.968174  \n",
       "1999         0.962406  \n",
       "2000         0.965422  \n",
       "2001         0.958974  \n",
       "2002         0.960133  \n",
       "2003         0.937931  \n",
       "2004         0.953347  \n",
       "2005         0.934844  \n",
       "2006         0.943149  \n",
       "2007         0.932271  \n",
       "2008         0.946237  \n",
       "2009         0.930864  \n",
       "2010         0.939614  \n",
       "2011         0.938826  \n",
       "2012         0.956439  \n",
       "2013         0.937995  \n",
       "2014         0.935593  \n",
       "2015         0.948478  \n",
       "2016         0.941300  \n",
       "2017         0.902765  \n",
       "2018         0.906191  \n",
       "2019         0.886667  "
      ]
     },
     "execution_count": 5,
     "metadata": {},
     "output_type": "execute_result"
    }
   ],
   "source": [
    "final"
   ]
  },
  {
   "cell_type": "code",
   "execution_count": 6,
   "metadata": {},
   "outputs": [
    {
     "data": {
      "text/plain": [
       "<matplotlib.axes._subplots.AxesSubplot at 0x7fe7ffee38d0>"
      ]
     },
     "execution_count": 6,
     "metadata": {},
     "output_type": "execute_result"
    },
    {
     "data": {
      "image/png": "[encoded data removed]",
      "text/plain": [
       "<Figure size 432x288 with 1 Axes>"
      ]
     },
     "metadata": {
      "needs_background": "light"
     },
     "output_type": "display_data"
    }
   ],
   "source": [
    "final.pct_games_invoked.plot()"
   ]
  },
  {
   "cell_type": "code",
   "execution_count": 7,
   "metadata": {},
   "outputs": [
    {
     "data": {
      "text/plain": [
       "<matplotlib.axes._subplots.AxesSubplot at 0x7fe8041e4510>"
      ]
     },
     "execution_count": 7,
     "metadata": {},
     "output_type": "execute_result"
    },
    {
     "data": {
      "image/png": "[encoded data removed]",
      "text/plain": [
       "<Figure size 432x288 with 1 Axes>"
      ]
     },
     "metadata": {
      "needs_background": "light"
     },
     "output_type": "display_data"
    }
   ],
   "source": [
    "final.pct_law_correct.plot()"
   ]
  },
  {
   "cell_type": "code",
   "execution_count": 8,
   "metadata": {},
   "outputs": [],
   "source": [
    "final.to_csv('law-by-year.csv')"
   ]
  }
 ],
 "metadata": {
  "kernelspec": {
   "display_name": "Python 2",
   "language": "python",
   "name": "python2"
  },
  "language_info": {
   "codemirror_mode": {
    "name": "ipython",
    "version": 2
   },
   "file_extension": ".py",
   "mimetype": "text/x-python",
   "name": "python",
   "nbconvert_exporter": "python",
   "pygments_lexer": "ipython2",
   "version": "2.7.15rc1"
  }
 },
 "nbformat": 4,
 "nbformat_minor": 2
}
