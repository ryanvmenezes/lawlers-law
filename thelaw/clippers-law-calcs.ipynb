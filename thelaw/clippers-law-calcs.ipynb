{
 "cells": [
  {
   "cell_type": "code",
   "execution_count": 1,
   "metadata": {},
   "outputs": [],
   "source": [
    "import pandas as pd\n",
    "import matplotlib.pyplot as plt\n",
    "\n",
    "from tqdm import tqdm\n",
    "\n",
    "%matplotlib inline"
   ]
  },
  {
   "cell_type": "code",
   "execution_count": 2,
   "metadata": {},
   "outputs": [],
   "source": [
    "def calculate_law(y):\n",
    "    games = pd.read_csv('processed/pbp-summary-{}.csv'.format(y), dtype={'GAME_ID':str})\n",
    "    winners = pd.read_csv('processed/winners-{}.csv'.format(y), dtype={'GAME_ID':str})\n",
    "    winners = winners[winners.MATCHUP.str.contains('LAC')]\n",
    "    together = pd.merge(games, winners).sort_values(['GAME_ID','EVENTNUM'])\n",
    "    law = together.groupby('GAME_ID').apply(lambda x: x[x.POINTS >= 100].head(1))\n",
    "    total_games = len(winners)\n",
    "    law_invoked = len(law)\n",
    "    law_correct = (law.SIDE == law.WINNER).sum()\n",
    "    return pd.Series([y,total_games,law_invoked,law_correct], index=['year','total_games','law_invoked','law_correct'])"
   ]
  },
  {
   "cell_type": "code",
   "execution_count": 3,
   "metadata": {},
   "outputs": [
    {
     "name": "stderr",
     "output_type": "stream",
     "text": [
      "100%|██████████| 23/23 [00:38<00:00,  1.21it/s]\n"
     ]
    }
   ],
   "source": [
    "final = pd.concat([calculate_law(y) for y in tqdm(range(1997, 2020))], axis=1)\\\n",
    ".transpose()\\\n",
    ".set_index('year')"
   ]
  },
  {
   "cell_type": "code",
   "execution_count": 4,
   "metadata": {},
   "outputs": [],
   "source": [
    "final['pct_games_invoked'] = final['law_invoked'] / final['total_games']\n",
    "final['pct_law_correct'] = final['law_correct'] / final['law_invoked']"
   ]
  },
  {
   "cell_type": "code",
   "execution_count": 5,
   "metadata": {},
   "outputs": [
    {
     "data": {
      "text/html": [
       "<div>\n",
       "<style scoped>\n",
       "    .dataframe tbody tr th:only-of-type {\n",
       "        vertical-align: middle;\n",
       "    }\n",
       "\n",
       "    .dataframe tbody tr th {\n",
       "        vertical-align: top;\n",
       "    }\n",
       "\n",
       "    .dataframe thead th {\n",
       "        text-align: right;\n",
       "    }\n",
       "</style>\n",
       "<table border=\"1\" class=\"dataframe\">\n",
       "  <thead>\n",
       "    <tr style=\"text-align: right;\">\n",
       "      <th></th>\n",
       "      <th>total_games</th>\n",
       "      <th>law_invoked</th>\n",
       "      <th>law_correct</th>\n",
       "      <th>pct_games_invoked</th>\n",
       "      <th>pct_law_correct</th>\n",
       "    </tr>\n",
       "    <tr>\n",
       "      <th>year</th>\n",
       "      <th></th>\n",
       "      <th></th>\n",
       "      <th></th>\n",
       "      <th></th>\n",
       "      <th></th>\n",
       "    </tr>\n",
       "  </thead>\n",
       "  <tbody>\n",
       "    <tr>\n",
       "      <th>1997</th>\n",
       "      <td>82</td>\n",
       "      <td>48</td>\n",
       "      <td>43</td>\n",
       "      <td>0.585366</td>\n",
       "      <td>0.895833</td>\n",
       "    </tr>\n",
       "    <tr>\n",
       "      <th>1998</th>\n",
       "      <td>82</td>\n",
       "      <td>51</td>\n",
       "      <td>48</td>\n",
       "      <td>0.621951</td>\n",
       "      <td>0.941176</td>\n",
       "    </tr>\n",
       "    <tr>\n",
       "      <th>1999</th>\n",
       "      <td>50</td>\n",
       "      <td>28</td>\n",
       "      <td>28</td>\n",
       "      <td>0.560000</td>\n",
       "      <td>1.000000</td>\n",
       "    </tr>\n",
       "    <tr>\n",
       "      <th>2000</th>\n",
       "      <td>82</td>\n",
       "      <td>53</td>\n",
       "      <td>52</td>\n",
       "      <td>0.646341</td>\n",
       "      <td>0.981132</td>\n",
       "    </tr>\n",
       "    <tr>\n",
       "      <th>2001</th>\n",
       "      <td>82</td>\n",
       "      <td>33</td>\n",
       "      <td>30</td>\n",
       "      <td>0.402439</td>\n",
       "      <td>0.909091</td>\n",
       "    </tr>\n",
       "    <tr>\n",
       "      <th>2002</th>\n",
       "      <td>82</td>\n",
       "      <td>42</td>\n",
       "      <td>41</td>\n",
       "      <td>0.512195</td>\n",
       "      <td>0.976190</td>\n",
       "    </tr>\n",
       "    <tr>\n",
       "      <th>2003</th>\n",
       "      <td>82</td>\n",
       "      <td>43</td>\n",
       "      <td>39</td>\n",
       "      <td>0.524390</td>\n",
       "      <td>0.906977</td>\n",
       "    </tr>\n",
       "    <tr>\n",
       "      <th>2004</th>\n",
       "      <td>82</td>\n",
       "      <td>48</td>\n",
       "      <td>47</td>\n",
       "      <td>0.585366</td>\n",
       "      <td>0.979167</td>\n",
       "    </tr>\n",
       "    <tr>\n",
       "      <th>2005</th>\n",
       "      <td>82</td>\n",
       "      <td>36</td>\n",
       "      <td>33</td>\n",
       "      <td>0.439024</td>\n",
       "      <td>0.916667</td>\n",
       "    </tr>\n",
       "    <tr>\n",
       "      <th>2006</th>\n",
       "      <td>82</td>\n",
       "      <td>43</td>\n",
       "      <td>41</td>\n",
       "      <td>0.524390</td>\n",
       "      <td>0.953488</td>\n",
       "    </tr>\n",
       "    <tr>\n",
       "      <th>2007</th>\n",
       "      <td>82</td>\n",
       "      <td>49</td>\n",
       "      <td>46</td>\n",
       "      <td>0.597561</td>\n",
       "      <td>0.938776</td>\n",
       "    </tr>\n",
       "    <tr>\n",
       "      <th>2008</th>\n",
       "      <td>82</td>\n",
       "      <td>51</td>\n",
       "      <td>50</td>\n",
       "      <td>0.621951</td>\n",
       "      <td>0.980392</td>\n",
       "    </tr>\n",
       "    <tr>\n",
       "      <th>2009</th>\n",
       "      <td>82</td>\n",
       "      <td>54</td>\n",
       "      <td>49</td>\n",
       "      <td>0.658537</td>\n",
       "      <td>0.907407</td>\n",
       "    </tr>\n",
       "    <tr>\n",
       "      <th>2010</th>\n",
       "      <td>82</td>\n",
       "      <td>57</td>\n",
       "      <td>55</td>\n",
       "      <td>0.695122</td>\n",
       "      <td>0.964912</td>\n",
       "    </tr>\n",
       "    <tr>\n",
       "      <th>2011</th>\n",
       "      <td>82</td>\n",
       "      <td>58</td>\n",
       "      <td>56</td>\n",
       "      <td>0.707317</td>\n",
       "      <td>0.965517</td>\n",
       "    </tr>\n",
       "    <tr>\n",
       "      <th>2012</th>\n",
       "      <td>66</td>\n",
       "      <td>35</td>\n",
       "      <td>34</td>\n",
       "      <td>0.530303</td>\n",
       "      <td>0.971429</td>\n",
       "    </tr>\n",
       "    <tr>\n",
       "      <th>2013</th>\n",
       "      <td>82</td>\n",
       "      <td>56</td>\n",
       "      <td>52</td>\n",
       "      <td>0.682927</td>\n",
       "      <td>0.928571</td>\n",
       "    </tr>\n",
       "    <tr>\n",
       "      <th>2014</th>\n",
       "      <td>82</td>\n",
       "      <td>72</td>\n",
       "      <td>65</td>\n",
       "      <td>0.878049</td>\n",
       "      <td>0.902778</td>\n",
       "    </tr>\n",
       "    <tr>\n",
       "      <th>2015</th>\n",
       "      <td>82</td>\n",
       "      <td>70</td>\n",
       "      <td>67</td>\n",
       "      <td>0.853659</td>\n",
       "      <td>0.957143</td>\n",
       "    </tr>\n",
       "    <tr>\n",
       "      <th>2016</th>\n",
       "      <td>82</td>\n",
       "      <td>66</td>\n",
       "      <td>63</td>\n",
       "      <td>0.804878</td>\n",
       "      <td>0.954545</td>\n",
       "    </tr>\n",
       "    <tr>\n",
       "      <th>2017</th>\n",
       "      <td>82</td>\n",
       "      <td>70</td>\n",
       "      <td>66</td>\n",
       "      <td>0.853659</td>\n",
       "      <td>0.942857</td>\n",
       "    </tr>\n",
       "    <tr>\n",
       "      <th>2018</th>\n",
       "      <td>82</td>\n",
       "      <td>78</td>\n",
       "      <td>68</td>\n",
       "      <td>0.951220</td>\n",
       "      <td>0.871795</td>\n",
       "    </tr>\n",
       "    <tr>\n",
       "      <th>2019</th>\n",
       "      <td>21</td>\n",
       "      <td>20</td>\n",
       "      <td>17</td>\n",
       "      <td>0.952381</td>\n",
       "      <td>0.850000</td>\n",
       "    </tr>\n",
       "  </tbody>\n",
       "</table>\n",
       "</div>"
      ],
      "text/plain": [
       "      total_games  law_invoked  law_correct  pct_games_invoked  \\\n",
       "year                                                             \n",
       "1997           82           48           43           0.585366   \n",
       "1998           82           51           48           0.621951   \n",
       "1999           50           28           28           0.560000   \n",
       "2000           82           53           52           0.646341   \n",
       "2001           82           33           30           0.402439   \n",
       "2002           82           42           41           0.512195   \n",
       "2003           82           43           39           0.524390   \n",
       "2004           82           48           47           0.585366   \n",
       "2005           82           36           33           0.439024   \n",
       "2006           82           43           41           0.524390   \n",
       "2007           82           49           46           0.597561   \n",
       "2008           82           51           50           0.621951   \n",
       "2009           82           54           49           0.658537   \n",
       "2010           82           57           55           0.695122   \n",
       "2011           82           58           56           0.707317   \n",
       "2012           66           35           34           0.530303   \n",
       "2013           82           56           52           0.682927   \n",
       "2014           82           72           65           0.878049   \n",
       "2015           82           70           67           0.853659   \n",
       "2016           82           66           63           0.804878   \n",
       "2017           82           70           66           0.853659   \n",
       "2018           82           78           68           0.951220   \n",
       "2019           21           20           17           0.952381   \n",
       "\n",
       "      pct_law_correct  \n",
       "year                   \n",
       "1997         0.895833  \n",
       "1998         0.941176  \n",
       "1999         1.000000  \n",
       "2000         0.981132  \n",
       "2001         0.909091  \n",
       "2002         0.976190  \n",
       "2003         0.906977  \n",
       "2004         0.979167  \n",
       "2005         0.916667  \n",
       "2006         0.953488  \n",
       "2007         0.938776  \n",
       "2008         0.980392  \n",
       "2009         0.907407  \n",
       "2010         0.964912  \n",
       "2011         0.965517  \n",
       "2012         0.971429  \n",
       "2013         0.928571  \n",
       "2014         0.902778  \n",
       "2015         0.957143  \n",
       "2016         0.954545  \n",
       "2017         0.942857  \n",
       "2018         0.871795  \n",
       "2019         0.850000  "
      ]
     },
     "execution_count": 5,
     "metadata": {},
     "output_type": "execute_result"
    }
   ],
   "source": [
    "final"
   ]
  },
  {
   "cell_type": "code",
   "execution_count": 6,
   "metadata": {},
   "outputs": [
    {
     "data": {
      "text/plain": [
       "<matplotlib.axes._subplots.AxesSubplot at 0x7ffb9fa2c950>"
      ]
     },
     "execution_count": 6,
     "metadata": {},
     "output_type": "execute_result"
    },
    {
     "data": {
      "image/png": "[encoded data removed]",
      "text/plain": [
       "<Figure size 432x288 with 1 Axes>"
      ]
     },
     "metadata": {
      "needs_background": "light"
     },
     "output_type": "display_data"
    }
   ],
   "source": [
    "final.pct_games_invoked.plot()"
   ]
  },
  {
   "cell_type": "code",
   "execution_count": 7,
   "metadata": {},
   "outputs": [
    {
     "data": {
      "text/plain": [
       "<matplotlib.axes._subplots.AxesSubplot at 0x7ffb9f9d9650>"
      ]
     },
     "execution_count": 7,
     "metadata": {},
     "output_type": "execute_result"
    },
    {
     "data": {
      "image/png": "[encoded data removed]",
      "text/plain": [
       "<Figure size 432x288 with 1 Axes>"
      ]
     },
     "metadata": {
      "needs_background": "light"
     },
     "output_type": "display_data"
    }
   ],
   "source": [
    "final.pct_law_correct.plot()"
   ]
  },
  {
   "cell_type": "code",
   "execution_count": 8,
   "metadata": {},
   "outputs": [],
   "source": [
    "final.to_csv('law-by-year-clippers.csv')"
   ]
  },
  {
   "cell_type": "code",
   "execution_count": null,
   "metadata": {},
   "outputs": [],
   "source": []
  }
 ],
 "metadata": {
  "kernelspec": {
   "display_name": "Python 2",
   "language": "python",
   "name": "python2"
  },
  "language_info": {
   "codemirror_mode": {
    "name": "ipython",
    "version": 2
   },
   "file_extension": ".py",
   "mimetype": "text/x-python",
   "name": "python",
   "nbconvert_exporter": "python",
   "pygments_lexer": "ipython2",
   "version": "2.7.15rc1"
  }
 },
 "nbformat": 4,
 "nbformat_minor": 2
}
