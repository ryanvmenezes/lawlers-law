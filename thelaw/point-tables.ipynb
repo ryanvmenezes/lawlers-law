{
 "cells": [
  {
   "cell_type": "code",
   "execution_count": 1,
   "metadata": {},
   "outputs": [],
   "source": [
    "import pandas as pd\n",
    "\n",
    "from tqdm import tqdm"
   ]
  },
  {
   "cell_type": "code",
   "execution_count": 2,
   "metadata": {},
   "outputs": [],
   "source": [
    "def calcs(y):\n",
    "    games = pd.read_csv('processed/pbp-summary-{}.csv'.format(y), dtype={'GAME_ID':str})\n",
    "    winners = pd.read_csv('processed/winners-{}.csv'.format(y), dtype={'GAME_ID':str})\n",
    "    together = pd.merge(games, winners).sort_values(['GAME_ID','EVENTNUM'])\n",
    "    compiled = []\n",
    "    for i in range(1, together.POINTS.max() + 1):\n",
    "        subset = together[together.POINTS >= i].drop_duplicates(subset=['GAME_ID',], keep='first')\n",
    "        games = len(subset)\n",
    "        correct = (subset.SIDE == subset.WINNER).sum()\n",
    "        pct_correct = correct / float(games)\n",
    "        compiled.append([i, games, correct, pct_correct])\n",
    "    return compiled"
   ]
  },
  {
   "cell_type": "code",
   "execution_count": 3,
   "metadata": {},
   "outputs": [
    {
     "name": "stderr",
     "output_type": "stream",
     "text": [
      "100%|██████████| 23/23 [00:52<00:00,  2.10s/it]\n"
     ]
    }
   ],
   "source": [
    "byyears = {y: calcs(y) for y in tqdm(range(1997,2020))}"
   ]
  },
  {
   "cell_type": "code",
   "execution_count": 4,
   "metadata": {},
   "outputs": [],
   "source": [
    "alldata = []\n",
    "for i in byyears:\n",
    "    data = byyears[i]\n",
    "    for row in data:\n",
    "        entry = [i]\n",
    "        entry.extend(row)\n",
    "        alldata.append(entry)"
   ]
  },
  {
   "cell_type": "code",
   "execution_count": 5,
   "metadata": {},
   "outputs": [],
   "source": [
    "final = pd.DataFrame(alldata, columns=['year','point','games','correct','pct_correct'])"
   ]
  },
  {
   "cell_type": "code",
   "execution_count": 6,
   "metadata": {},
   "outputs": [],
   "source": [
    "final.to_csv('point-tables.csv', index=False)"
   ]
  }
 ],
 "metadata": {
  "kernelspec": {
   "display_name": "Python 2",
   "language": "python",
   "name": "python2"
  },
  "language_info": {
   "codemirror_mode": {
    "name": "ipython",
    "version": 2
   },
   "file_extension": ".py",
   "mimetype": "text/x-python",
   "name": "python",
   "nbconvert_exporter": "python",
   "pygments_lexer": "ipython2",
   "version": "2.7.15rc1"
  }
 },
 "nbformat": 4,
 "nbformat_minor": 2
}
