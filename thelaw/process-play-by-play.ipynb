{
 "cells": [
  {
   "cell_type": "code",
   "execution_count": 1,
   "metadata": {},
   "outputs": [],
   "source": [
    "import pandas as pd\n",
    "\n",
    "from glob import glob\n",
    "from tqdm import tqdm"
   ]
  },
  {
   "cell_type": "code",
   "execution_count": 2,
   "metadata": {},
   "outputs": [],
   "source": [
    "def get_scoring_team(row):\n",
    "    if row['HOMEDESCRIPTION'] == '':\n",
    "        return 'HOME'\n",
    "    if row['VISITORDESCRIPTION'] == '':\n",
    "        return 'AWAY'\n",
    "    return 'NULL'"
   ]
  },
  {
   "cell_type": "code",
   "execution_count": 3,
   "metadata": {},
   "outputs": [],
   "source": [
    "def calculate_time(row):\n",
    "    quarter = int(row['PERIOD'])\n",
    "    minutes = int(row['PCTIMESTRING'].split(':')[0])\n",
    "    seconds = int(row['PCTIMESTRING'].split(':')[1])\n",
    "    return 2880 - (720)*(quarter - 1) - (11 - minutes)*(60) - (60 - seconds)"
   ]
  },
  {
   "cell_type": "code",
   "execution_count": 4,
   "metadata": {},
   "outputs": [],
   "source": [
    "def process(df):\n",
    "    g = df[\n",
    "        (df.SCORE.notnull()) &\n",
    "        (df.HOMEDESCRIPTION.notnull() | df.VISITORDESCRIPTION.notnull()) &\n",
    "        (df.PERIOD <= 4)\n",
    "    ].sort_values('EVENTNUM')\n",
    "    \n",
    "    g['TIME'] = g.apply(calculate_time, axis=1)\n",
    "    \n",
    "    g['AWAY'] = g['SCORE'].str.split(' - ').apply(lambda x: x[1])\n",
    "    g['HOME'] = g['SCORE'].str.split(' - ').apply(lambda x: x[0])\n",
    "    \n",
    "    g['HOMEDESCRIPTION'].fillna('', inplace=True)\n",
    "    g['VISITORDESCRIPTION'].fillna('', inplace=True)\n",
    "    \n",
    "    g['SCORINGTEAM'] = g.apply(get_scoring_team, axis=1)\n",
    "    \n",
    "    g['HOMEMARGIN'] = g['SCOREMARGIN'].apply(lambda x: int(x.replace('TIE','0')))\n",
    "    \n",
    "    new = pd.melt(\n",
    "        g,\n",
    "        id_vars=['GAME_ID','EVENTNUM','PERIOD','TIME','SCORINGTEAM','HOMEMARGIN','SCORE'],\n",
    "        var_name='SIDE',\n",
    "        value_name='POINTS',\n",
    "    ).sort_values('EVENTNUM')\\\n",
    "    .query('SCORINGTEAM == SIDE')\n",
    "    \n",
    "    return new"
   ]
  },
  {
   "cell_type": "code",
   "execution_count": 5,
   "metadata": {
    "scrolled": false
   },
   "outputs": [
    {
     "name": "stderr",
     "output_type": "stream",
     "text": [
      "100%|██████████| 1189/1189 [00:46<00:00, 25.81it/s]\n",
      "100%|██████████| 1189/1189 [00:48<00:00, 24.51it/s]\n",
      "100%|██████████| 725/725 [00:26<00:00, 27.30it/s]\n",
      "100%|██████████| 1189/1189 [00:44<00:00, 26.54it/s]\n",
      "100%|██████████| 1189/1189 [00:44<00:00, 26.87it/s]\n",
      "100%|██████████| 1189/1189 [00:58<00:00, 20.25it/s]\n",
      "100%|██████████| 1189/1189 [00:59<00:00, 24.58it/s]\n",
      "100%|██████████| 1189/1189 [00:57<00:00, 20.51it/s]\n",
      "100%|██████████| 1230/1230 [01:03<00:00, 19.25it/s]\n",
      "100%|██████████| 1230/1230 [01:07<00:00, 18.09it/s]\n",
      "100%|██████████| 1230/1230 [01:08<00:00, 17.97it/s]\n",
      "100%|██████████| 1230/1230 [01:06<00:00, 18.58it/s]\n",
      "100%|██████████| 1230/1230 [01:01<00:00, 21.16it/s]\n",
      "100%|██████████| 1230/1230 [01:00<00:00, 20.18it/s]\n",
      "100%|██████████| 1230/1230 [01:00<00:00, 21.16it/s]\n",
      "100%|██████████| 990/990 [00:47<00:00, 21.25it/s]\n",
      "100%|██████████| 1229/1229 [01:00<00:00, 20.43it/s]\n",
      "100%|██████████| 1230/1230 [01:02<00:00, 19.71it/s]\n",
      "100%|██████████| 1230/1230 [00:57<00:00, 21.27it/s]\n",
      "100%|██████████| 1230/1230 [00:50<00:00, 24.53it/s]\n",
      "100%|██████████| 1230/1230 [00:53<00:00, 22.85it/s]\n",
      "100%|██████████| 1230/1230 [01:07<00:00, 16.67it/s]\n",
      "100%|██████████| 318/318 [00:17<00:00, 17.91it/s]\n"
     ]
    }
   ],
   "source": [
    "for y in range(2019, 2020):\n",
    "    files = glob('../data/playbyplay/{}/*.csv'.format(y))\n",
    "    summary = pd.concat([process(pd.read_csv(f, dtype={'GAME_ID':str,'SCOREMARGIN':str})) for f in tqdm(files)])\n",
    "    summary.sort_values(['GAME_ID','EVENTNUM']).to_csv('processed/pbp-summary-{}.csv'.format(y), index=False)"
   ]
  },
  {
   "cell_type": "code",
   "execution_count": null,
   "metadata": {},
   "outputs": [],
   "source": []
  }
 ],
 "metadata": {
  "kernelspec": {
   "display_name": "Python 2",
   "language": "python",
   "name": "python2"
  },
  "language_info": {
   "codemirror_mode": {
    "name": "ipython",
    "version": 2
   },
   "file_extension": ".py",
   "mimetype": "text/x-python",
   "name": "python",
   "nbconvert_exporter": "python",
   "pygments_lexer": "ipython2",
   "version": "2.7.15rc1"
  }
 },
 "nbformat": 4,
 "nbformat_minor": 2
}
