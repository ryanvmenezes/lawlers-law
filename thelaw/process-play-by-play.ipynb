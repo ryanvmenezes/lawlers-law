{
 "cells": [
  {
   "cell_type": "code",
   "execution_count": 1,
   "metadata": {},
   "outputs": [],
   "source": [
    "import pandas as pd\n",
    "\n",
    "from glob import glob\n",
    "from tqdm import tqdm"
   ]
  },
  {
   "cell_type": "code",
   "execution_count": 2,
   "metadata": {},
   "outputs": [],
   "source": [
    "def get_scoring_team(row):\n",
    "    if row['HOMEDESCRIPTION'] != '':\n",
    "        return 'HOME'\n",
    "    if row['VISITORDESCRIPTION'] != '':\n",
    "        return 'AWAY'\n",
    "    return 'NULL'"
   ]
  },
  {
   "cell_type": "code",
   "execution_count": 3,
   "metadata": {},
   "outputs": [],
   "source": [
    "def calculate_time(row):\n",
    "    quarter = int(row['PERIOD'])\n",
    "    minutes = int(row['PCTIMESTRING'].split(':')[0])\n",
    "    seconds = int(row['PCTIMESTRING'].split(':')[1])\n",
    "    return 2880 - (720)*(quarter - 1) - (11 - minutes)*(60) - (60 - seconds)"
   ]
  },
  {
   "cell_type": "code",
   "execution_count": 4,
   "metadata": {},
   "outputs": [],
   "source": [
    "def process(df):\n",
    "    g = df[\n",
    "        (df.SCORE.notnull()) &\n",
    "        (df.HOMEDESCRIPTION.notnull() | df.VISITORDESCRIPTION.notnull()) &\n",
    "        (df.PERIOD <= 4)\n",
    "    ].sort_values('EVENTNUM')\n",
    "    \n",
    "    g['TIME'] = g.apply(calculate_time, axis=1)\n",
    "    \n",
    "    g['AWAY'] = g['SCORE'].str.split(' - ').apply(lambda x: x[0])\n",
    "    g['HOME'] = g['SCORE'].str.split(' - ').apply(lambda x: x[1])\n",
    "    \n",
    "    g['HOMEDESCRIPTION'].fillna('', inplace=True)\n",
    "    g['VISITORDESCRIPTION'].fillna('', inplace=True)\n",
    "    \n",
    "    g['SCORINGTEAM'] = g.apply(get_scoring_team, axis=1)\n",
    "    \n",
    "    g['HOMEMARGIN'] = g['SCOREMARGIN'].apply(lambda x: int(x.replace('TIE','0')))\n",
    "    \n",
    "    new = pd.melt(\n",
    "        g,\n",
    "        id_vars=['GAME_ID','EVENTNUM','PERIOD','TIME','SCORINGTEAM','HOMEMARGIN','SCORE'],\n",
    "        var_name='SIDE',\n",
    "        value_name='POINTS',\n",
    "    ).sort_values('EVENTNUM')\\\n",
    "    .query('SCORINGTEAM == SIDE')\n",
    "    \n",
    "    return new"
   ]
  },
  {
   "cell_type": "code",
   "execution_count": 5,
   "metadata": {
    "scrolled": false
   },
   "outputs": [
    {
     "name": "stderr",
     "output_type": "stream",
     "text": [
      "100%|██████████| 322/322 [00:12<00:00, 25.05it/s]\n"
     ]
    }
   ],
   "source": [
    "for y in range(2019, 2020):\n",
    "    files = glob('../data/playbyplay/{}/*.csv'.format(y))\n",
    "    summary = pd.concat([process(pd.read_csv(f, dtype={'GAME_ID':str,'SCOREMARGIN':str})) for f in tqdm(files)])\n",
    "    summary.sort_values(['GAME_ID','EVENTNUM']).to_csv('processed/pbp-summary-{}.csv'.format(y), index=False)"
   ]
  },
  {
   "cell_type": "code",
   "execution_count": null,
   "metadata": {},
   "outputs": [],
   "source": []
  }
 ],
 "metadata": {
  "kernelspec": {
   "display_name": "Python 2",
   "language": "python",
   "name": "python2"
  },
  "language_info": {
   "codemirror_mode": {
    "name": "ipython",
    "version": 2
   },
   "file_extension": ".py",
   "mimetype": "text/x-python",
   "name": "python",
   "nbconvert_exporter": "python",
   "pygments_lexer": "ipython2",
   "version": "2.7.15rc1"
  }
 },
 "nbformat": 4,
 "nbformat_minor": 2
}
