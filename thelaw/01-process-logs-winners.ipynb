{
 "cells": [
  {
   "cell_type": "code",
   "execution_count": 1,
   "metadata": {},
   "outputs": [],
   "source": [
    "import pandas as pd"
   ]
  },
  {
   "cell_type": "code",
   "execution_count": 2,
   "metadata": {},
   "outputs": [],
   "source": [
    "for y in range(1951, 2020):\n",
    "    glog = pd.read_csv('../data/logs/log-{}.csv'.format(y), dtype={'GAME_ID':str})\n",
    "    glog['WINNER'] = glog.apply(lambda x: 'HOME' if x['PLUS_MINUS'] < 0 else 'AWAY', axis=1)\n",
    "    final = glog.loc[glog.MATCHUP.str.contains('@'), ['GAME_ID','WINNER','MATCHUP']]\n",
    "    final.to_csv('processed/winners-{}.csv'.format(y), index=False)"
   ]
  },
  {
   "cell_type": "code",
   "execution_count": null,
   "metadata": {},
   "outputs": [],
   "source": []
  }
 ],
 "metadata": {
  "kernelspec": {
   "display_name": "Python 3",
   "language": "python",
   "name": "python3"
  },
  "language_info": {
   "codemirror_mode": {
    "name": "ipython",
    "version": 3
   },
   "file_extension": ".py",
   "mimetype": "text/x-python",
   "name": "python",
   "nbconvert_exporter": "python",
   "pygments_lexer": "ipython3",
   "version": "3.6.7"
  }
 },
 "nbformat": 4,
 "nbformat_minor": 2
}
