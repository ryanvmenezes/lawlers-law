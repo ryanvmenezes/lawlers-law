{
 "cells": [
  {
   "cell_type": "code",
   "execution_count": 1,
   "metadata": {},
   "outputs": [],
   "source": [
    "import pandas as pd"
   ]
  },
  {
   "cell_type": "code",
   "execution_count": 2,
   "metadata": {},
   "outputs": [],
   "source": [
    "for y in range(1997,2020):\n",
    "    glog = pd.read_csv('../data/logs/log-{}.csv'.format(y))\n",
    "    glog['WINNER'] = glog.apply(lambda x: 'HOME' if x['PLUS_MINUS'] < 0 else 'AWAY', axis=1)\n",
    "    final = glog.loc[glog.MATCHUP.str.contains('@'), ['GAME_ID','WINNER']]\n",
    "    final.to_csv('processed/winners-{}.csv'.format(y), index=False)"
   ]
  },
  {
   "cell_type": "code",
   "execution_count": null,
   "metadata": {},
   "outputs": [],
   "source": []
  }
 ],
 "metadata": {
  "kernelspec": {
   "display_name": "Python 2",
   "language": "python",
   "name": "python2"
  },
  "language_info": {
   "codemirror_mode": {
    "name": "ipython",
    "version": 2
   },
   "file_extension": ".py",
   "mimetype": "text/x-python",
   "name": "python",
   "nbconvert_exporter": "python",
   "pygments_lexer": "ipython2",
   "version": "2.7.15rc1"
  }
 },
 "nbformat": 4,
 "nbformat_minor": 2
}
