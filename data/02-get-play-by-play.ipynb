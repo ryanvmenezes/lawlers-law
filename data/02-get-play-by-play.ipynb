{
 "cells": [
  {
   "cell_type": "code",
   "execution_count": 1,
   "metadata": {},
   "outputs": [],
   "source": [
    "import os\n",
    "import pandas as pd\n",
    "from time import sleep\n",
    "from tqdm import tqdm"
   ]
  },
  {
   "cell_type": "markdown",
   "metadata": {},
   "source": [
    "Gets a play-by-play log for a given game ID"
   ]
  },
  {
   "cell_type": "code",
   "execution_count": 2,
   "metadata": {},
   "outputs": [],
   "source": [
    "from nba_api.stats.endpoints import playbyplay"
   ]
  },
  {
   "cell_type": "code",
   "execution_count": 3,
   "metadata": {},
   "outputs": [],
   "source": [
    "def get_game(y, i, overwrite=False):\n",
    "    fpath = f'playbyplay/{y}/{i}.csv'\n",
    "    if not os.path.exists(fpath) or overwrite:\n",
    "        req = playbyplay.PlayByPlay(game_id=i)\n",
    "        plays = req.play_by_play.get_data_frame()\n",
    "        plays.to_csv(fpath, index=False)\n",
    "        sleep(0.3)"
   ]
  },
  {
   "cell_type": "code",
   "execution_count": 4,
   "metadata": {},
   "outputs": [
    {
     "name": "stderr",
     "output_type": "stream",
     "text": [
      "100%|██████████| 1189/1189 [00:00<00:00, 225698.20it/s]\n",
      "100%|██████████| 1189/1189 [00:00<00:00, 223854.36it/s]\n",
      "100%|██████████| 725/725 [00:00<00:00, 212752.42it/s]\n",
      "100%|██████████| 1189/1189 [00:00<00:00, 229954.69it/s]\n",
      "100%|██████████| 1189/1189 [00:00<00:00, 230230.71it/s]\n",
      "100%|██████████| 1189/1189 [00:00<00:00, 161251.57it/s]\n",
      "100%|██████████| 1189/1189 [00:00<00:00, 230337.05it/s]\n",
      "100%|██████████| 1189/1189 [00:00<00:00, 213504.04it/s]\n",
      "100%|██████████| 1230/1230 [00:00<00:00, 233946.76it/s]\n",
      "100%|██████████| 1230/1230 [00:00<00:00, 140606.52it/s]\n",
      "100%|██████████| 1230/1230 [00:00<00:00, 234191.02it/s]\n",
      "100%|██████████| 1230/1230 [00:00<00:00, 219438.28it/s]\n",
      "100%|██████████| 1230/1230 [00:00<00:00, 210210.82it/s]\n",
      "100%|██████████| 1230/1230 [00:00<00:00, 216446.15it/s]\n",
      "100%|██████████| 1230/1230 [00:00<00:00, 187313.70it/s]\n",
      "100%|██████████| 990/990 [00:00<00:00, 208640.39it/s]\n",
      "100%|██████████| 1230/1230 [00:00<00:00, 211651.03it/s]\n",
      "100%|██████████| 1230/1230 [00:00<00:00, 216664.31it/s]\n",
      "100%|██████████| 1230/1230 [00:00<00:00, 197943.21it/s]\n",
      "100%|██████████| 1230/1230 [00:00<00:00, 231044.56it/s]\n",
      "100%|██████████| 1230/1230 [00:00<00:00, 199104.39it/s]\n",
      "100%|██████████| 1230/1230 [00:00<00:00, 227208.40it/s]\n",
      "100%|██████████| 1177/1177 [00:10<00:00, 113.52it/s] \n"
     ]
    }
   ],
   "source": [
    "for y in range(1997, 2020):\n",
    "    pbp_folder = f'playbyplay/{y}/'\n",
    "    if not os.path.exists(pbp_folder):\n",
    "        os.mkdir(pbp_folder)\n",
    "    games = pd.read_csv(f'logs/log-{y}.csv', dtype=str)\n",
    "    gameids = games.GAME_ID.unique()\n",
    "    for i in tqdm(gameids):\n",
    "        get_game(y, i)"
   ]
  },
  {
   "cell_type": "code",
   "execution_count": null,
   "metadata": {},
   "outputs": [],
   "source": []
  }
 ],
 "metadata": {
  "kernelspec": {
   "display_name": "Python 3",
   "language": "python",
   "name": "python3"
  },
  "language_info": {
   "codemirror_mode": {
    "name": "ipython",
    "version": 3
   },
   "file_extension": ".py",
   "mimetype": "text/x-python",
   "name": "python",
   "nbconvert_exporter": "python",
   "pygments_lexer": "ipython3",
   "version": "3.6.7"
  }
 },
 "nbformat": 4,
 "nbformat_minor": 2
}
