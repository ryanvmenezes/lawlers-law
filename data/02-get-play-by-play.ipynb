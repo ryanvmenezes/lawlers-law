{
 "cells": [
  {
   "cell_type": "code",
   "execution_count": 1,
   "metadata": {},
   "outputs": [],
   "source": [
    "import os\n",
    "import pandas as pd\n",
    "from time import sleep\n",
    "from tqdm import tqdm"
   ]
  },
  {
   "cell_type": "markdown",
   "metadata": {},
   "source": [
    "Gets a play-by-play log for a given game ID"
   ]
  },
  {
   "cell_type": "code",
   "execution_count": 2,
   "metadata": {},
   "outputs": [],
   "source": [
    "from nba_api.stats.endpoints import playbyplay"
   ]
  },
  {
   "cell_type": "code",
   "execution_count": 3,
   "metadata": {},
   "outputs": [],
   "source": [
    "def get_game(y, i, overwrite=False):\n",
    "    fpath = f'playbyplay/{y}/{i}.csv'\n",
    "    if not os.path.exists(fpath) or overwrite:\n",
    "        req = playbyplay.PlayByPlay(game_id=i)\n",
    "        plays = req.play_by_play.get_data_frame()\n",
    "        plays.to_csv(fpath, index=False)\n",
    "        sleep(0.3)"
   ]
  },
  {
   "cell_type": "code",
   "execution_count": 4,
   "metadata": {},
   "outputs": [
    {
     "name": "stderr",
     "output_type": "stream",
     "text": [
      "100%|██████████| 1189/1189 [00:00<00:00, 46047.42it/s]\n",
      "100%|██████████| 1189/1189 [00:00<00:00, 49596.01it/s]\n",
      "100%|██████████| 725/725 [00:00<00:00, 56171.98it/s]\n",
      "100%|██████████| 1189/1189 [00:00<00:00, 55221.21it/s]\n",
      "100%|██████████| 1189/1189 [00:00<00:00, 55648.23it/s]\n",
      "100%|██████████| 1189/1189 [00:00<00:00, 48494.96it/s]\n",
      "100%|██████████| 1189/1189 [00:00<00:00, 51547.10it/s]\n",
      "100%|██████████| 1189/1189 [00:00<00:00, 50045.94it/s]\n",
      "100%|██████████| 1230/1230 [00:00<00:00, 41386.51it/s]\n",
      "100%|██████████| 1230/1230 [00:00<00:00, 59559.61it/s]\n",
      "100%|██████████| 1230/1230 [00:00<00:00, 51387.47it/s]\n",
      "100%|██████████| 1230/1230 [00:00<00:00, 48950.99it/s]\n",
      "100%|██████████| 1230/1230 [00:00<00:00, 53357.68it/s]\n",
      "100%|██████████| 1230/1230 [00:00<00:00, 49609.53it/s]\n",
      "100%|██████████| 1230/1230 [00:00<00:00, 47698.68it/s]\n",
      "100%|██████████| 990/990 [00:00<00:00, 45318.09it/s]\n",
      "100%|██████████| 1230/1230 [00:00<00:00, 52936.65it/s]\n",
      "100%|██████████| 1230/1230 [00:00<00:00, 48109.24it/s]\n",
      "100%|██████████| 1230/1230 [00:00<00:00, 52977.42it/s]\n",
      "100%|██████████| 1230/1230 [00:00<00:00, 51070.05it/s]\n",
      "100%|██████████| 1230/1230 [00:00<00:00, 27663.65it/s]\n",
      "100%|██████████| 1230/1230 [00:00<00:00, 40689.60it/s]\n",
      "100%|██████████| 1164/1164 [00:00<00:00, 38495.93it/s]\n"
     ]
    }
   ],
   "source": [
    "for y in range(1997, 2020):\n",
    "    pbp_folder = f'playbyplay/{y}/'\n",
    "    if not os.path.exists(pbp_folder):\n",
    "        os.mkdir(pbp_folder)\n",
    "    games = pd.read_csv(f'logs/log-{y}.csv', dtype=str)\n",
    "    gameids = games.GAME_ID.unique()\n",
    "    for i in tqdm(gameids):\n",
    "        get_game(y, i)"
   ]
  },
  {
   "cell_type": "code",
   "execution_count": null,
   "metadata": {},
   "outputs": [],
   "source": []
  }
 ],
 "metadata": {
  "kernelspec": {
   "display_name": "Python 3",
   "language": "python",
   "name": "python3"
  },
  "language_info": {
   "codemirror_mode": {
    "name": "ipython",
    "version": 3
   },
   "file_extension": ".py",
   "mimetype": "text/x-python",
   "name": "python",
   "nbconvert_exporter": "python",
   "pygments_lexer": "ipython3",
   "version": "3.7.2"
  }
 },
 "nbformat": 4,
 "nbformat_minor": 2
}
