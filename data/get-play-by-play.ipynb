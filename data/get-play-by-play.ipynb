{
 "cells": [
  {
   "cell_type": "code",
   "execution_count": null,
   "metadata": {},
   "outputs": [],
   "source": [
    "import os\n",
    "import pandas as pd\n",
    "import requests_cache\n",
    "\n",
    "from time import sleep\n",
    "from tqdm import tqdm\n",
    "from nba_api.stats.endpoints import playbyplay"
   ]
  },
  {
   "cell_type": "code",
   "execution_count": null,
   "metadata": {},
   "outputs": [],
   "source": [
    "requests_cache.configure()"
   ]
  },
  {
   "cell_type": "code",
   "execution_count": null,
   "metadata": {},
   "outputs": [],
   "source": [
    "for y in range(2018, 1980, -1):\n",
    "    print 'starting {} season'.format(y)\n",
    "    games = pd.read_csv('logs/log-{}.csv'.format(y), dtype=str)\n",
    "    pbppath = 'playbyplay/{}/'.format(y)\n",
    "    if not os.path.exists(pbppath):\n",
    "        os.mkdir(pbppath)\n",
    "    else:\n",
    "        files = [f for f in os.listdir(pbppath) if f.endswith('.csv')]\n",
    "        if len(files) == games.GAME_ID.nunique():\n",
    "            print 'all games processed, continuing'\n",
    "            continue\n",
    "        else:\n",
    "            print 'only {} of {} games processed'.format(len(files), games.GAME_ID.nunique())\n",
    "    gameids = games.GAME_ID.unique()\n",
    "    for i in tqdm(gameids):\n",
    "        req = playbyplay.PlayByPlay(game_id=i)\n",
    "        plays = req.play_by_play.get_data_frame()\n",
    "        plays.to_csv('playbyplay/{}/{}.csv'.format(y, i), index=False)\n",
    "        sleep(0.3)"
   ]
  },
  {
   "cell_type": "code",
   "execution_count": null,
   "metadata": {},
   "outputs": [],
   "source": []
  }
 ],
 "metadata": {
  "kernelspec": {
   "display_name": "Python 2",
   "language": "python",
   "name": "python2"
  },
  "language_info": {
   "codemirror_mode": {
    "name": "ipython",
    "version": 2
   },
   "file_extension": ".py",
   "mimetype": "text/x-python",
   "name": "python",
   "nbconvert_exporter": "python",
   "pygments_lexer": "ipython2",
   "version": "2.7.15rc1"
  }
 },
 "nbformat": 4,
 "nbformat_minor": 2
}
