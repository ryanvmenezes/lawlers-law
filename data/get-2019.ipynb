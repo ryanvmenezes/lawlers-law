{
 "cells": [
  {
   "cell_type": "code",
   "execution_count": 1,
   "metadata": {},
   "outputs": [],
   "source": [
    "import os\n",
    "import pandas as pd\n",
    "import requests_cache\n",
    "\n",
    "from time import sleep\n",
    "from tqdm import tqdm\n",
    "from nba_api.stats.endpoints import playbyplay, leaguegamelog"
   ]
  },
  {
   "cell_type": "code",
   "execution_count": 2,
   "metadata": {},
   "outputs": [],
   "source": [
    "season = '2018-19'\n",
    "req = leaguegamelog.LeagueGameLog(season_all_time=season)\n",
    "games = req.league_game_log.get_data_frame()\n",
    "games.to_csv('logs/log-2019.csv'.format(season), index=False)"
   ]
  },
  {
   "cell_type": "code",
   "execution_count": 3,
   "metadata": {},
   "outputs": [],
   "source": [
    "requests_cache.configure()"
   ]
  },
  {
   "cell_type": "code",
   "execution_count": 4,
   "metadata": {},
   "outputs": [
    {
     "data": {
      "text/plain": [
       "318"
      ]
     },
     "execution_count": 4,
     "metadata": {},
     "output_type": "execute_result"
    }
   ],
   "source": [
    "games.GAME_ID.nunique()"
   ]
  },
  {
   "cell_type": "code",
   "execution_count": 5,
   "metadata": {},
   "outputs": [
    {
     "name": "stderr",
     "output_type": "stream",
     "text": [
      "100%|██████████| 318/318 [00:07<00:00, 42.70it/s]\n"
     ]
    }
   ],
   "source": [
    "gameids = games.GAME_ID.unique()\n",
    "for i in tqdm(gameids):\n",
    "    req = playbyplay.PlayByPlay(game_id=i)\n",
    "    plays = req.play_by_play.get_data_frame()\n",
    "    plays.to_csv('playbyplay/2019/{}.csv'.format(i), index=False)\n",
    "    sleep(0.3)"
   ]
  },
  {
   "cell_type": "code",
   "execution_count": null,
   "metadata": {},
   "outputs": [],
   "source": []
  }
 ],
 "metadata": {
  "kernelspec": {
   "display_name": "Python 2",
   "language": "python",
   "name": "python2"
  },
  "language_info": {
   "codemirror_mode": {
    "name": "ipython",
    "version": 2
   },
   "file_extension": ".py",
   "mimetype": "text/x-python",
   "name": "python",
   "nbconvert_exporter": "python",
   "pygments_lexer": "ipython2",
   "version": "2.7.15rc1"
  }
 },
 "nbformat": 4,
 "nbformat_minor": 2
}
